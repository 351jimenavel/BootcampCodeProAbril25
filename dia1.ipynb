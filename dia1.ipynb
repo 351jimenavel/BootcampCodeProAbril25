{
 "cells": [
  {
   "cell_type": "code",
   "execution_count": null,
   "id": "c992b9c0",
   "metadata": {},
   "outputs": [
    {
     "name": "stdout",
     "output_type": "stream",
     "text": [
      "Hola Mundo\n"
     ]
    }
   ],
   "source": [
    "print(\"Hola Mundo\")"
   ]
  },
  {
   "cell_type": "markdown",
   "id": "bcc3ade7",
   "metadata": {},
   "source": [
    "## Variable"
   ]
  },
  {
   "cell_type": "code",
   "execution_count": 5,
   "id": "13fdce66",
   "metadata": {},
   "outputs": [
    {
     "name": "stdout",
     "output_type": "stream",
     "text": [
      "Jimena\n",
      "Velázquez\n"
     ]
    }
   ],
   "source": [
    "nombre = \"Jimena\"\n",
    "print(nombre)\n",
    "apellido = \"Velázquez\"\n",
    "print(apellido)"
   ]
  },
  {
   "cell_type": "code",
   "execution_count": null,
   "id": "ff78ee29",
   "metadata": {},
   "outputs": [],
   "source": []
  },
  {
   "cell_type": "markdown",
   "id": "00470f52",
   "metadata": {},
   "source": [
    "## Tipo de datos\n",
    "int - integer --> número entero\n",
    "float - floatin --> número decimal\n",
    "str - string - \"\" o '' --> línea de texto. Ej: \"Jimena\" o 'Velázquez'\n",
    "\n",
    "bool - boolean --> TRUE or FALSE, Verdadero o Falso"
   ]
  },
  {
   "cell_type": "code",
   "execution_count": null,
   "id": "f7e86f42",
   "metadata": {},
   "outputs": [
    {
     "name": "stdout",
     "output_type": "stream",
     "text": [
      "\"Jimena\"\n"
     ]
    }
   ],
   "source": [
    "numero_entero = 2233\n",
    "numero_decimal = 3.44\n",
    "nombre = '\"Jimena\"' ## o al contrario\n",
    "print (nombre)\n",
    "cajon_abierto = False"
   ]
  },
  {
   "cell_type": "markdown",
   "id": "af1c988e",
   "metadata": {},
   "source": [
    "## Operaciones Aritmeticas\n",
    "- "
   ]
  },
  {
   "cell_type": "markdown",
   "id": "42ae0905",
   "metadata": {},
   "source": [
    "SUMA +\n",
    "RESTA -\n",
    "MULTIPLICACION *\n",
    "DIVISION / \n",
    "DIVISION ENTERA //"
   ]
  },
  {
   "cell_type": "code",
   "execution_count": null,
   "id": "1bdb2f7f",
   "metadata": {},
   "outputs": [
    {
     "name": "stdout",
     "output_type": "stream",
     "text": [
      "35000\n",
      "30000\n",
      "5066.666666666667\n",
      "5066\n"
     ]
    }
   ],
   "source": [
    "# SUMA\n",
    "precio_total = 25000 + 10000\n",
    "print(precio_total)\n",
    "\n",
    "# Resta\n",
    "precio_descuento = precio_total - 5000\n",
    "print(precio_descuento)\n",
    "\n",
    "## Cálculo de cuanto nos costará comprar gaseosas en la clase.\n",
    "precio_gaseosa = 19000\n",
    "cantidad_gaseosa = 4\n",
    "cantidad_personas = 15\n",
    "precio_total = precio_gaseosa * cantidad_gaseosa\n",
    "\n",
    "## // no redondea hacia arriba ni abajo, solo lanza el número exacto.\n",
    "promedio_por_persona = precio_total / cantidad_personas \n",
    "print(promedio_por_persona)\n",
    "\n",
    "promedio_por_persona_entero = precio_total // cantidad_personas \n",
    "print(promedio_por_persona_entero)\n"
   ]
  },
  {
   "cell_type": "markdown",
   "id": "698f8f8a",
   "metadata": {},
   "source": [
    "# #1 CHALLENGE\n",
    "Challenge 🤺 - 20m\n",
    "\n",
    "Suma: asignar dos números en dos variables diferentes cantidad_de_manzanas y cantidad_de_naranjas. Luego sumar ambas variables en cantidad_de_frutas. Imprimir la última variable.\n",
    "\n",
    "Resta: asignar un valor numérico a la variable frutas_vendidas. Luego, asignar la resta entre cantidad_de_frutas y frutas_vendidas a la variable frutas_restantes. Imprimir la última variable."
   ]
  },
  {
   "cell_type": "code",
   "execution_count": null,
   "id": "32962606",
   "metadata": {},
   "outputs": [
    {
     "name": "stdout",
     "output_type": "stream",
     "text": [
      "34\n",
      "19\n"
     ]
    }
   ],
   "source": [
    "# 1.1 SUMA de manzanas y naranjas\n",
    "cantidad_de_manzanas = 23\n",
    "cantidad_de_naranjas = 11\n",
    "cantidad_de_frutas = cantidad_de_manzanas + cantidad_de_naranjas\n",
    "print(cantidad_de_frutas)\n",
    "\n",
    "# 1.2 RESTA del total de frutas y las que se vendieron\n",
    "frutas_vendidas = 15\n",
    "frutas_restantes = cantidad_de_frutas - frutas_vendidas\n",
    "print(frutas_restantes)\n"
   ]
  },
  {
   "cell_type": "markdown",
   "id": "fdf3d05d",
   "metadata": {},
   "source": [
    "# Concatenación"
   ]
  },
  {
   "cell_type": "code",
   "execution_count": null,
   "id": "81c67326",
   "metadata": {},
   "outputs": [
    {
     "name": "stdout",
     "output_type": "stream",
     "text": [
      "Jimena Velázquez\n",
      "Hola, mi nombre es Jimena Velázquez\n",
      "Hola, mi nombre es Jimena Velázquez\n",
      "Hola, mi nombre es Jimena Velázquez\n",
      "Hola, mi nombre es JimenaVelázquez \n",
      "Hola, mi nombre es Jimena Velázquez\n"
     ]
    }
   ],
   "source": [
    "nombre = \"Jimena\"\n",
    "apellido = \"Velázquez\"\n",
    "\n",
    "# CONCATENACIÓN --> unión\n",
    "nombre_completo = nombre + \" \" + apellido\n",
    "print(nombre_completo)\n",
    "print(\"Hola, mi nombre es\" + \" \" + nombre_completo)\n",
    "\n",
    "# con FORMAT\n",
    "print(f\"Hola, mi nombre es {nombre_completo}\")\n",
    "print(f\"Hola, mi nombre es {nombre} {apellido}\") # el espacio entre nombre y apellido es dado por el espacio entre las variables\n",
    "      ### por ello\n",
    "print(f\"Hola, mi nombre es {nombre}{apellido} \") # no hay espacio entre ellos\n",
    "\n",
    "# con COMA. ojo: la coma SEPARA, no une!\n",
    "print(\"Hola, mi nombre es\", nombre_completo)\n",
    "\n"
   ]
  },
  {
   "cell_type": "markdown",
   "id": "415c6c60",
   "metadata": {},
   "source": [
    "# #2 Challenge\n",
    "Challenge 🤺 - 15m\n",
    "\n",
    "Asignar el nombre y el apellido de tu compañera/o a las variables nombre y apellido. Luego, imprimir una frase, utilizando las variables.\n",
    "EJEMPLO: \"Hola. Me llamo Claudia Melgarejo. Mucho gusto.\""
   ]
  },
  {
   "cell_type": "code",
   "execution_count": 35,
   "id": "0b207af3",
   "metadata": {},
   "outputs": [
    {
     "name": "stdout",
     "output_type": "stream",
     "text": [
      "Hola. Me llamo Melizza Benitez. Mucho gusto\n"
     ]
    }
   ],
   "source": [
    "nombre = \"Melizza\"\n",
    "apellido = \"Benitez\"\n",
    "\n",
    "print(f\"Hola. Me llamo {nombre} {apellido}. Mucho gusto\")"
   ]
  },
  {
   "cell_type": "markdown",
   "id": "b1bf1d2f",
   "metadata": {},
   "source": [
    "# INPUT\n",
    "pedir al usuario que responda y la respuesta se almacena en una variable\n",
    "- siempre trae el dato tipo TEXTO"
   ]
  },
  {
   "cell_type": "code",
   "execution_count": 43,
   "id": "ffa515d7",
   "metadata": {},
   "outputs": [
    {
     "name": "stdout",
     "output_type": "stream",
     "text": [
      "22\n",
      "4\n",
      "<class 'str'>\n"
     ]
    }
   ],
   "source": [
    "#nombre = input(\"Cual es tu nombre?\")\n",
    "#print(nombre)\n",
    "\n",
    "numero1 = input(\"dame un número\")\n",
    "numero2 = input(\"dame otro número\")\n",
    "suma = numero1 + numero2\n",
    "print(suma) # No suma realmente, sino que concatena\n",
    "\n",
    "# Para convertir hay que hacer lo siguiente:\n",
    "numero1 = input(\"dame un número\")\n",
    "numero2 = input(\"dame otro número\")\n",
    "suma = int(numero1) + int(numero2)\n",
    "print(suma)\n",
    "\n",
    "## Para saber el tipo\n",
    "print(type(numero1))"
   ]
  },
  {
   "cell_type": "markdown",
   "id": "1cfab8df",
   "metadata": {},
   "source": [
    "# #3 Challenge\n",
    "Challenge 🤺 - 10m\n",
    "\n",
    "Solicitar al usuario ingresar dos números y almacenarlos en dos variables. Luego, imprimir la suma de los dos números."
   ]
  },
  {
   "cell_type": "code",
   "execution_count": 54,
   "id": "b2d419e5",
   "metadata": {},
   "outputs": [
    {
     "name": "stdout",
     "output_type": "stream",
     "text": [
      "6\n",
      "3\n",
      "El resultado es 9\n"
     ]
    }
   ],
   "source": [
    "# solicitar al usuario el 1er número\n",
    "numero1 = input(\"Ingresa un número porfavor!!!!\")\n",
    "print(numero1)\n",
    "\n",
    "# solicitar al usuario el 2do número\n",
    "numero2 = input(\"Ingresa otro número porfa!!!\")\n",
    "print(numero2)\n",
    "\n",
    "# sumar números y mostrar el resultado\n",
    "suma = int(numero1) + int(numero2)\n",
    "print(f\"El resultado es {suma}\")"
   ]
  },
  {
   "cell_type": "markdown",
   "id": "9a111ed6",
   "metadata": {},
   "source": [
    "# Funciones\n",
    "sintaxis: def \"nombre\" ():\n",
    "\n",
    "*el \"=\" es un operador de asignación de valor\n",
    "\n",
    "*el \":\" es lo que se va a ejercutar/ realizar un pedido"
   ]
  },
  {
   "cell_type": "code",
   "execution_count": null,
   "id": "8e428727",
   "metadata": {},
   "outputs": [
    {
     "name": "stdout",
     "output_type": "stream",
     "text": [
      "Abrir el pan\n",
      "Agregar jamon\n",
      "Agregar queso\n",
      "Cerrar pan\n",
      "Terminado!\n",
      "Abrir el pan\n",
      "Agregar jamon\n",
      "Agregar queso\n",
      "Cerrar pan\n",
      "Terminado!\n",
      "Abrir el pan\n",
      "Agregar jamon\n",
      "Agregar queso\n",
      "Cerrar pan\n",
      "Terminado!\n"
     ]
    }
   ],
   "source": [
    "def preparar_sandwich():     # los : indican que la función se esta definiendo\n",
    "    print(\"Abrir el pan\")\n",
    "    print(\"Agregar jamon\")\n",
    "    print(\"Agregar queso\")\n",
    "    print(\"Cerrar pan\")\n",
    "    print(\"Terminado!\")\n",
    "\n",
    "preparar_sandwich()  # llamar a la función\n",
    "preparar_sandwich()  # sandwich número 2\n",
    "preparar_sandwich()  # sandwich número 3"
   ]
  },
  {
   "cell_type": "markdown",
   "id": "1770523f",
   "metadata": {},
   "source": [
    "# #4 Challenge\n",
    "Challenge 🤺 - 10m\n",
    "\n",
    "Crear una función de un proceso que se les ocurra que tenga varios pasos.\n",
    "Ejecutar la función 3 veces."
   ]
  },
  {
   "cell_type": "code",
   "execution_count": 62,
   "id": "2eb95af1",
   "metadata": {},
   "outputs": [
    {
     "name": "stdout",
     "output_type": "stream",
     "text": [
      "Entro a mi pieza\n",
      "Quito mi ropa sucia de la cesta\n",
      "Llevo la ropa al lavadero\n",
      "Separo las ropas oscuras de las claras\n",
      "Abro tapa\n",
      "Meto las ropas blancas en el lavarropas\n",
      "Coloco jabón líquido\n",
      "Aprieto botón para iniciar\n",
      "Espero 1 hora\n",
      " \n",
      "Entro a mi pieza\n",
      "Quito mi ropa sucia de la cesta\n",
      "Llevo la ropa al lavadero\n",
      "Separo las ropas oscuras de las claras\n",
      "Abro tapa\n",
      "Meto las ropas blancas en el lavarropas\n",
      "Coloco jabón líquido\n",
      "Aprieto botón para iniciar\n",
      "Espero 1 hora\n",
      " \n",
      "Entro a mi pieza\n",
      "Quito mi ropa sucia de la cesta\n",
      "Llevo la ropa al lavadero\n",
      "Separo las ropas oscuras de las claras\n",
      "Abro tapa\n",
      "Meto las ropas blancas en el lavarropas\n",
      "Coloco jabón líquido\n",
      "Aprieto botón para iniciar\n",
      "Espero 1 hora\n",
      " \n"
     ]
    }
   ],
   "source": [
    "def lavar_mi_ropa():\n",
    "    print(\"Entro a mi pieza\")\n",
    "    print(\"Quito mi ropa sucia de la cesta\")\n",
    "    print(\"Llevo la ropa al lavadero\")\n",
    "    print(\"Separo las ropas oscuras de las claras\")\n",
    "    print(\"Abro tapa\")\n",
    "    print(\"Meto las ropas blancas en el lavarropas\")\n",
    "    print(\"Coloco jabón líquido\")\n",
    "    print(\"Aprieto botón para iniciar\")\n",
    "    print(\"Espero 1 hora\")\n",
    "    print(\" \")\n",
    "\n",
    "lavar_mi_ropa()\n",
    "lavar_mi_ropa()\n",
    "lavar_mi_ropa()"
   ]
  },
  {
   "cell_type": "markdown",
   "id": "c6da5fa0",
   "metadata": {},
   "source": [
    "# Parámetros y Argumentos\n",
    "- el Parámetro es aquel que necesita/espera por un valor. ej: el perimetro de un triangulo, P=l*3, donde l se desconoce, ya que puede variar constantemente.\n",
    "- el Argumento es aquel que da valor al parámetro."
   ]
  },
  {
   "cell_type": "code",
   "execution_count": null,
   "id": "78329a34",
   "metadata": {},
   "outputs": [
    {
     "name": "stdout",
     "output_type": "stream",
     "text": [
      "Abrir el pan\n",
      "agregar tomate\n",
      "Cerrar pan\n",
      "Terminado!\n",
      "Abrir el pan\n",
      "agregar lechuga y huevo\n",
      "Cerrar pan\n",
      "Terminado!\n"
     ]
    }
   ],
   "source": [
    "def preparar_sandwich(ingrediente):\n",
    "    print(\"Abrir el pan\")\n",
    "    print(f\"Agregar {ingrediente}\")\n",
    "    print(\"Cerrar pan\")\n",
    "    print(\"Terminado!\")\n",
    "\n",
    "preparar_sandwich(\"tomate\")\n",
    "preparar_sandwich(\"lechuga y huevo\")\n"
   ]
  },
  {
   "cell_type": "markdown",
   "id": "ae334039",
   "metadata": {},
   "source": [
    "# #5 Challenge\n"
   ]
  },
  {
   "cell_type": "code",
   "execution_count": null,
   "id": "eb63ca6a",
   "metadata": {},
   "outputs": [
    {
     "name": "stdout",
     "output_type": "stream",
     "text": [
      "Esta casa es grande. Tiene 4 piezas. También, se destaca por tener una sala de juegos. Y se encuentra en un barrio muy seguro.\n"
     ]
    }
   ],
   "source": [
    "#def comprar_casa(caracteristica1, caracteristica2, caracteristica3, caracteristica4):\n",
    "#    print(f\"Esta casa es {caracteristica1}\")\n",
    "#    print(f\"Tiene {caracteristica2}\")\n",
    "#    print(f\"También, se destaca por {caracteristica3}\")\n",
    "#    print(f\"Y se encuentra en {caracteristica4}\")\n",
    "#comprar_casa(\"grande\",\"4 piezas\", \"tener una sala de juegos\", \"un barrio muy seguro\")\n",
    "\n",
    "# Llamar a los parámetros de una forma que se entienda mejor\n",
    "#def comprar_casa(tamaño, numero_piezas, dato_especial, ubicacion):\n",
    "#    print(f\"Esta casa es {tamaño}\")\n",
    "#    print(f\"Tiene {numero_piezas}\")\n",
    "#    print(f\"También, se destaca por {dato_especial}\")\n",
    "#    print(f\"Y se encuentra en {ubicacion}\")\n",
    "#comprar_casa(\"grande\",\"4 piezas\", \"tener una sala de juegos\", \"un barrio muy seguro\")\n",
    "\n",
    "\n",
    "# Llamar a los parámetros de una forma que se entienda mejor\n",
    "#  Reducir la cantidad de prints, ya que de igual forma funciona.\n",
    "def comprar_casa(tamaño, numero_piezas, dato_especial, ubicacion):\n",
    "    print(f\"Esta casa es {tamaño}. Tiene {numero_piezas}. También, se destaca por {dato_especial}. Y se encuentra en {ubicacion}\") # aqui estos funcionan como variables locales\n",
    "comprar_casa(\"grande\",\"4 piezas\", \"tener una sala de juegos\", \"un barrio muy seguro.\")\n"
   ]
  },
  {
   "cell_type": "markdown",
   "id": "346c0e2b",
   "metadata": {},
   "source": [
    "# Variable local vs Variable Global"
   ]
  },
  {
   "cell_type": "code",
   "execution_count": null,
   "id": "68a05530",
   "metadata": {},
   "outputs": [],
   "source": [
    "def preparar_comida():\n",
    "    ingrediente = \"Carne\"\n",
    "    print(f\"Estoy cocinando {ingrediente}\")\n",
    "\n",
    "preparar_comida()\n",
    "\n",
    "ingrediente = \"Pollo\"  # No funciona al llamar nuevamente a la funcion ya que es una variable global.\n",
    "preparar_comida()"
   ]
  }
 ],
 "metadata": {
  "kernelspec": {
   "display_name": "Python 3",
   "language": "python",
   "name": "python3"
  },
  "language_info": {
   "codemirror_mode": {
    "name": "ipython",
    "version": 3
   },
   "file_extension": ".py",
   "mimetype": "text/x-python",
   "name": "python",
   "nbconvert_exporter": "python",
   "pygments_lexer": "ipython3",
   "version": "3.11.9"
  }
 },
 "nbformat": 4,
 "nbformat_minor": 5
}
