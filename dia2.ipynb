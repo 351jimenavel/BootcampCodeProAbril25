{
 "cells": [
  {
   "cell_type": "markdown",
   "id": "fb5c1738",
   "metadata": {},
   "source": [
    "# Repaso de funciones con parámetros y argumento\n"
   ]
  },
  {
   "cell_type": "code",
   "execution_count": 7,
   "id": "1f5da20b",
   "metadata": {},
   "outputs": [
    {
     "name": "stdout",
     "output_type": "stream",
     "text": [
      "Buen dia jiemna\n",
      "Buen dia jimena\n"
     ]
    }
   ],
   "source": [
    "def saludo_bienvenida(nombre):\n",
    "    print(f\"Buen dia {nombre}\")\n",
    "\n",
    "nombre = input(\"Ingrese su nombre\")\n",
    "saludo_bienvenida(nombre)\n",
    "\n",
    "# También se puede hacer de la siguiente forma y funciona de igualmente:\n",
    "def saludo_bienvenida(nombre):\n",
    "    print(f\"Buen dia {nombre}\")\n",
    "\n",
    "usuario = input(\"Ingrese su nombre\")\n",
    "saludo_bienvenida(usuario)"
   ]
  },
  {
   "cell_type": "markdown",
   "id": "26cb5a82",
   "metadata": {},
   "source": [
    "## Condicionales"
   ]
  },
  {
   "cell_type": "markdown",
   "id": "f735e48f",
   "metadata": {},
   "source": [
    "## Operadores de comparación\n",
    "\n",
    "mayor >\n",
    "\n",
    "menor <\n",
    "\n",
    "Mayor o igual >=\n",
    "\n",
    "Menor o igual <=\n",
    "\n",
    "Es igual ==\n",
    "\n",
    "Diferente !=\n",
    "\n",
    "\n",
    "## Palabras clave\n",
    "\n",
    "if (si)\n",
    "\n",
    "elif (sino si)\n",
    "\n",
    "else (sino)\n"
   ]
  },
  {
   "cell_type": "code",
   "execution_count": null,
   "id": "185d9f79",
   "metadata": {},
   "outputs": [],
   "source": [
    "edad = 18\n",
    "if edad <= 17:\n",
    "    print(\"Es menor de edad\")\n",
    "else:\n",
    "    print(\"Es mayor de edad\")"
   ]
  },
  {
   "cell_type": "code",
   "execution_count": null,
   "id": "da8e99bc",
   "metadata": {},
   "outputs": [
    {
     "name": "stdout",
     "output_type": "stream",
     "text": [
      "Jubilado\n"
     ]
    }
   ],
   "source": [
    "edad_persona = 80\n",
    "\n",
    "if edad_persona < 18:  ## menor o igual a 17  ## el if se utiliza solo una vez\n",
    "    print(\"Estudiante\")\n",
    "elif edad_persona > 65:  ## el elif se puede usar cuantas veces se necesite\n",
    "    print(\"Jubilado\")\n",
    "else:\n",
    "    print(\"Trabajador\")\n"
   ]
  },
  {
   "cell_type": "markdown",
   "id": "b97f5729",
   "metadata": {},
   "source": [
    "# #1 Challenge\n",
    "\n",
    "Challenge🤺 - 20m\n",
    "\n",
    "Escribe un programa que pregunte al usuario por su edad y determine si tiene edad suficiente para comprar y consumir alcohol.\n",
    "Si el usuario tiene mas de 18 pero menos de 21 impirmir \"Podes tomar pero no comprar\"\n",
    "Si el usuario tiene menos de 18 imprimir \"Juguito nomas\"\n",
    "Si el usuario tiene mas de 21 imprimir \"Hace lo que quieras\""
   ]
  },
  {
   "cell_type": "code",
   "execution_count": null,
   "id": "c78c5d02",
   "metadata": {},
   "outputs": [
    {
     "name": "stdout",
     "output_type": "stream",
     "text": [
      "Podes tomar pero no comprar\n"
     ]
    }
   ],
   "source": [
    "edad_usuario = int(input(\"Ingresa tu edad\"))  # sin la conversion, salta error!\n",
    "\n",
    "if edad_usuario < 18:\n",
    "    print(\"Juguito nomas podes\")\n",
    "elif edad_usuario >= 21:\n",
    "    print(\"Hace lo que quieras\")\n",
    "else:\n",
    "    print(\"Podes tomar pero no comprar\")"
   ]
  },
  {
   "cell_type": "markdown",
   "id": "48b263b3",
   "metadata": {},
   "source": [
    "# Operadores Lógicos\n",
    "and (y)\n",
    "\n",
    "or (o)\n",
    "\n",
    "not (no)"
   ]
  },
  {
   "cell_type": "code",
   "execution_count": null,
   "id": "4f425512",
   "metadata": {},
   "outputs": [],
   "source": [
    "\n",
    "edad_persona = 65\n",
    "trabaja = True\n",
    "\n",
    "if edad_persona < 18:\n",
    "    print(\"Estudiante\")\n",
    "elif edad_persona < 65 and trabaja == True:\n",
    "    print(\"Activo laboralmente\")\n",
    "elif edad_persona < 65 and trabaja == False:\n",
    "    print(\"Desempleado\")\n",
    "else:\n",
    "    print(\"Jubilado\")\n",
    "\n"
   ]
  },
  {
   "cell_type": "code",
   "execution_count": null,
   "id": "424e4c98",
   "metadata": {},
   "outputs": [],
   "source": [
    "## Condicionales y Operadores en funciones\n",
    "\n",
    "def chequear_edad(edad_laboral, trabaja):\n",
    "    if edad_persona < 18:\n",
    "        print(\"Estudiante\")\n",
    "    elif edad_persona < 65 and trabaja == True:\n",
    "        print(\"Activo laboralmente\")\n",
    "    elif edad_persona < 65 and trabaja == False:\n",
    "        print(\"Desempleado\")\n",
    "    else:\n",
    "        print(\"Jubilado\")\n",
    "\n",
    "chequear_edad(70, False)\n"
   ]
  },
  {
   "cell_type": "markdown",
   "id": "1528975b",
   "metadata": {},
   "source": [
    "# #2 Challenge\n",
    "Challenge 🤺 - 30m\n",
    "\n",
    "Escribir un programa en el que se pregunte al usuario por una temperatura (en grados Celsius), imprima la temperatura escrita, y luego clasificar la temperatura ingresada en los siguientes niveles:\n",
    "\n",
    "Entre -10 y 18 grados, que imprima \"Fresquete\".\n",
    "\n",
    "Entre 19 y 30 grados, que imprima \"Calor'i\".\n",
    "\n",
    "Entre 31 y 45 grados, que imprima \"Hakuuuuuu\".\n",
    "\n",
    "Para todo lo demás, imprimir \"Ñamano mba'e!\"."
   ]
  },
  {
   "cell_type": "code",
   "execution_count": null,
   "id": "80db08e0",
   "metadata": {},
   "outputs": [
    {
     "name": "stdout",
     "output_type": "stream",
     "text": [
      "-20\n",
      "Ñamano mba'e!\n"
     ]
    }
   ],
   "source": [
    "temperatura_usuario = int(input(\"Ingrese una temperatura\"))\n",
    "# podría ser float\n",
    "# temperatura_usuario = float(input(\"Ingrese una temperatura\"))\n",
    "\n",
    "print(temperatura_usuario)\n",
    "\n",
    "if temperatura_usuario >= -10 and temperatura_usuario <= 18:\n",
    "    print(\"Fresquete\")\n",
    "elif temperatura_usuario >= 19 and temperatura_usuario <= 31:\n",
    "    print(\"Calor'i\")\n",
    "elif temperatura_usuario >= 31 and temperatura_usuario <= 45:\n",
    "    print(\"Hakuuuuuuu\")\n",
    "else:\n",
    "    print(\"Ñamano mba'e!\")"
   ]
  },
  {
   "cell_type": "markdown",
   "id": "f4972375",
   "metadata": {},
   "source": [
    "# Bucles"
   ]
  },
  {
   "cell_type": "markdown",
   "id": "a8adc714",
   "metadata": {},
   "source": [
    "while --> mientras que (se cumpla) se ejecutará las instrucciones. Para cuando deje de ser cierta. Ej: Una persona saltando la cuerda.\n"
   ]
  },
  {
   "cell_type": "code",
   "execution_count": null,
   "id": "92b50af1",
   "metadata": {},
   "outputs": [],
   "source": [
    "numero_a_adivinar = 10\n",
    "numero_usuario = 3\n",
    "\n",
    "while numero_usuario != numero_a_adivinar:      # se realiza una comparación para poder ingresar al while\n",
    "    numero = int(input(\"Ingrese un numero\"))\n",
    "    print(numero)\n",
    "\n",
    "print(\"Numero correcto\")"
   ]
  },
  {
   "cell_type": "code",
   "execution_count": null,
   "id": "6c472670",
   "metadata": {},
   "outputs": [],
   "source": [
    "# Con BREAK para ciclos infinitos\n",
    "numero = 10\n",
    "\n",
    "while True:\n",
    "    numero_ingresado = int(input(\"Ingrese un número\"))\n",
    "    if numero_ingresado == numero:\n",
    "        print(\"Numero correcto\")\n",
    "        break\n",
    "    else:\n",
    "        print(\"Numero incorrecto\")\n"
   ]
  },
  {
   "cell_type": "markdown",
   "id": "eb2c15f0",
   "metadata": {},
   "source": [
    "# #3 Challenge\n",
    "Challenge 🤺 - 20m\n",
    "\n",
    "Escribir un programa que almacene una contraseña en una variable, y pregunte al usuario por la contraseña hasta que introduzca la contraseña correcta.\n",
    "\n",
    "Cuando el usuario ingrese la contrasena correcta, imprimir un mensaje secreto."
   ]
  },
  {
   "cell_type": "code",
   "execution_count": null,
   "id": "f5c51cde",
   "metadata": {},
   "outputs": [
    {
     "name": "stdout",
     "output_type": "stream",
     "text": [
      "Contraseña incorrecta\n",
      "Contraseña incorrecta\n",
      "El mensaje secreto es: 'Que lindo día'\n"
     ]
    }
   ],
   "source": [
    "# Almacenar la contraseña a descubrir en una variable\n",
    "contrasenha_secreta = \"lomito\"\n",
    "\n",
    "# Iniciar bucle inf.\n",
    "while True:\n",
    "    \n",
    "    # Almacenar la respuesta del usuario en una variable.\n",
    "    contrasenha_usuario = input(\"Ingrese una contraseña\")\n",
    "    \n",
    "    # Iniciar comparación de contraseñas, si es verdadero:\n",
    "    if contrasenha_usuario == contrasenha_secreta:\n",
    "        print(\"Contraseña correcta. El mensaje secreto es: 'Que lindo día'\")  # otra idea podría ser crear una variable con el mensaje secreto.\n",
    "        break\n",
    "    \n",
    "    # Si no es verdadero.\n",
    "    else:\n",
    "        print(\"Contraseña incorrecta\")\n",
    "    # Y luego volverá a preguntar hasta que se ingrese la contraseña correcta, y solo así rompe el bucle.\n",
    "\n",
    "######\n",
    "\n",
    "# Otra forma\n",
    "#contrasenha_secreta = \"lomito\"\n",
    "#contrasenha_usuario = input(\"Ingrese la contraseña\")\n",
    "\n",
    "#while contrasenha_secreta != contrasenha_usuario:\n",
    "#    print(\"Contraseña incorrecta\")\n",
    "#    contrasenha_usuario = input(\"Ingrese la contraseña\")\n",
    "\n",
    "#print(\"Contraseña correcta\")\n",
    "    \n",
    "\n",
    "\n",
    "\n",
    "# Probar despúes!! Según Olaf: ¿qué pasa si nunca entra en el break?\n",
    "#while True:\n",
    "#    contrasenha_usuario = input(\"Ingrese una contraseña\")\n",
    "#    if contrasenha_usuario != contrasenha_secreta:\n",
    "#        print(\"Contraseña incorrecta\")\n",
    "#    else:\n",
    "#        print(\"Contraseña correcta. El mensaje secreto es: 'Que lindo día'\")\n",
    "#        break"
   ]
  },
  {
   "cell_type": "markdown",
   "id": "6a1c78d7",
   "metadata": {},
   "source": [
    "# Listas\n"
   ]
  },
  {
   "cell_type": "code",
   "execution_count": 84,
   "id": "6544ad1b",
   "metadata": {},
   "outputs": [
    {
     "name": "stdout",
     "output_type": "stream",
     "text": [
      "manzana\n",
      "['pera', 'manzana', 'banana', 'uva']\n",
      "['pera', 'durazno', 'banana', 'uva']\n",
      "['durazno', 'banana', 'uva']\n",
      "['durazno', 'uva']\n",
      "2\n"
     ]
    }
   ],
   "source": [
    "# índice del 0 al n  con []\n",
    "# posición del 1 al n\n",
    "\n",
    "lista_frutas =[\"pera\", \"manzana\", \"banana\"]\n",
    "lista_bool = [True, False, True]\n",
    "\n",
    "## Conocer en que indice se encuentra un elemento\n",
    "print(lista_frutas[1])\n",
    "\n",
    "## AÑADIR ELEMENTOS\n",
    "lista_frutas.append(\"uva\")\n",
    "print(lista_frutas)\n",
    "\n",
    "## MODIFICAR\n",
    "lista_frutas[1] = \"durazno\"\n",
    "print(lista_frutas)\n",
    "\n",
    "## ELIMINAR un elemento especifico\n",
    "lista_frutas.remove(\"pera\")\n",
    "print(lista_frutas)\n",
    "\n",
    "## ELIMINAR un elemento por indice\n",
    "lista_frutas.pop(1)\n",
    "print(lista_frutas)\n",
    "\n",
    "## CONTAR elementos\n",
    "print(len(lista_frutas))\n"
   ]
  },
  {
   "cell_type": "markdown",
   "id": "65e204f6",
   "metadata": {},
   "source": [
    "# #4 Challenge\n",
    "Challenge 🤺 - 20m\n",
    "\n",
    "Crear una lista de 5 elementos. Luego, seguir los siguientes pasos.\n",
    "\n",
    "\n",
    "Agregar un elemento al final de la lista.\n",
    "\n",
    "\n",
    "Modificar el segundo elemento.\n",
    "\n",
    "\n",
    "Eliminar el tercer elemento."
   ]
  },
  {
   "cell_type": "code",
   "execution_count": 67,
   "id": "ee21d0b1",
   "metadata": {},
   "outputs": [
    {
     "name": "stdout",
     "output_type": "stream",
     "text": [
      "['lapiz', 'compás', 'boligrafo', 'tijera', 'marcador']\n"
     ]
    }
   ],
   "source": [
    "# Crear lista con 5 elementos\n",
    "lista_cartuchera = [\"lapiz\",\"borrador\",\"regla\",\"boligrafo\",\"tijera\"]\n",
    "\n",
    "# Agregar un elemento a la lista\n",
    "lista_cartuchera.append(\"marcador\")\n",
    "\n",
    "# Modificar el 2do elemento por otro\n",
    "lista_cartuchera[1] = \"compás\"\n",
    "\n",
    "# Eliminar el 3er elemento de la lista\n",
    "lista_cartuchera.pop(2)  #Funciona de igual forma con lista_cartuchera.remove(\"regla\") pero el challenge pide por elemento.\n",
    "\n",
    "print(lista_cartuchera)"
   ]
  },
  {
   "cell_type": "markdown",
   "id": "55f2d9c1",
   "metadata": {},
   "source": [
    "# Bucle iterativo: FOR\n",
    "\n",
    "- iteracion: accion que se repite una cierta cantidad de veces, teniendo en cuenta el valor anterior."
   ]
  },
  {
   "cell_type": "code",
   "execution_count": null,
   "id": "d6627152",
   "metadata": {},
   "outputs": [],
   "source": [
    "dias_de_la_semana = [1,2,3,4,5,6,7]\n",
    "# i --> iterador, funciona como variable\n",
    "for dia in dias_de_la_semana:\n",
    "    print(dia)\n",
    "    #print(f\"dia:{dia}\")\n",
    "\n",
    "# tambien se puede por rango\n",
    "for i in range(5):\n",
    "    print(i)        #toma desde el cero"
   ]
  },
  {
   "cell_type": "code",
   "execution_count": 74,
   "id": "77fb1c91",
   "metadata": {},
   "outputs": [
    {
     "name": "stdout",
     "output_type": "stream",
     "text": [
      "pan\n",
      "queso\n",
      "jamon\n",
      "leche\n",
      "mayonesa\n"
     ]
    }
   ],
   "source": [
    "lista_compras = [\"pan\",\"queso\",\"jamon\",\"leche\",\"mayonesa\"]\n",
    "\n",
    "for articulo in lista_compras:\n",
    "    print(articulo)"
   ]
  },
  {
   "cell_type": "markdown",
   "id": "2b006684",
   "metadata": {},
   "source": [
    "# #5 Challenge\n",
    "Challenge 🤺 - 20m\n",
    "\n",
    "Escribir un programa que itere en un rango de 10 veces. Por cada iteracion multiplicar el iterador por dos e imprimir el resultado."
   ]
  },
  {
   "cell_type": "code",
   "execution_count": null,
   "id": "8106e5f1",
   "metadata": {},
   "outputs": [],
   "source": [
    "for i in range(1,11): # colocando solamente 10, la multiplicacion inicia en 0.\n",
    "    i_multiplicado = i * 2\n",
    "    print(i_multiplicado)\n",
    "\n",
    "# Otra forma\n",
    "print(\" \")\n",
    "lista_numeros = [1,2,3,4,5,6,7,8,9,10]\n",
    "for numero in lista_numeros:\n",
    "    numero_multiplicado = numero * 2\n",
    "    print(numero_multiplicado)"
   ]
  },
  {
   "cell_type": "markdown",
   "id": "4b6e67ba",
   "metadata": {},
   "source": [
    "# #6 Challenge\n",
    "Challenge 🤺 - 20m\n",
    "\n",
    "Recorrer los elementos de una lista de marcas e imprimir cada marca solamente si tiene 6 letras o más."
   ]
  },
  {
   "cell_type": "code",
   "execution_count": null,
   "id": "092c2615",
   "metadata": {},
   "outputs": [
    {
     "name": "stdout",
     "output_type": "stream",
     "text": [
      " \n",
      "Adidas\n",
      " \n",
      "Indian\n",
      " \n",
      "Samsung\n",
      "Mcdonald\n",
      "Aeropostale\n"
     ]
    }
   ],
   "source": [
    "# Crear lista de marcas\n",
    "# Recorrer la lista de marcas\n",
    "# Crear una condicion si la palabra tiene 6 o mas caracteres\n",
    "# Imprimir las que cumplan la condicion\n",
    "\n",
    "lista_marcas = [\"Nike\", \"Adidas\", \"Gucci\", \"Indian\", \"Apple\", \"Samsung\", \"Mcdonald\", \"Aeropostale\"]\n",
    "\n",
    "for marca in lista_marcas:  # debido al \"for --- in ----\" el es capaz de recorrer(iterar) en cada elemento de la lista.\n",
    "    if len(marca) >= 6:     # para posteriormente contar caracter por caracter.\n",
    "        print(marca)\n",
    "    else:                   # puede no estar también\n",
    "        print(\" \")\n"
   ]
  },
  {
   "cell_type": "code",
   "execution_count": 96,
   "id": "ba00a88b",
   "metadata": {},
   "outputs": [
    {
     "name": "stdout",
     "output_type": "stream",
     "text": [
      "s\n",
      "a\n",
      "l\n",
      "u\n",
      "d\n",
      "o\n"
     ]
    }
   ],
   "source": [
    "# Iterar una cadena de caracteres:\n",
    "for letra in \"saludo\":\n",
    "    print(letra)"
   ]
  },
  {
   "cell_type": "markdown",
   "id": "37faa58a",
   "metadata": {},
   "source": [
    "# #7 Challenge\n",
    "Challenge 🤺 - 15m\n",
    "\n",
    "Solicitar al usuario que ingrese una frase.\n",
    "\n",
    "Imprimir un mensaje cada vez que se encuentre una letra \"o\"."
   ]
  },
  {
   "cell_type": "code",
   "execution_count": null,
   "id": "792a4d68",
   "metadata": {},
   "outputs": [],
   "source": [
    "# Pedir al usuario una frase\n",
    "# Imprimir un mensaje cada vez que se encuentra una letra \"o\"\n",
    "\n",
    "frase_usuario = input(\"Ingresa una frase\")\n",
    "print(frase_usuario)\n",
    "\n",
    "for letra in frase_usuario:\n",
    "    if letra == \"o\":  #.lower() serviria para que convierta todas las letras en minuscula.\n",
    "    # O también\n",
    "    #if letra == \"o\" or letra == \"O\": \n",
    "        print(\"jejejejejeje\")\n",
    "    else:\n",
    "        print(letra)"
   ]
  },
  {
   "cell_type": "markdown",
   "id": "ee06899e",
   "metadata": {},
   "source": [
    "# CHALLENGE WORDLE"
   ]
  },
  {
   "cell_type": "code",
   "execution_count": null,
   "id": "8d50061e",
   "metadata": {},
   "outputs": [],
   "source": []
  }
 ],
 "metadata": {
  "kernelspec": {
   "display_name": "Python 3",
   "language": "python",
   "name": "python3"
  },
  "language_info": {
   "codemirror_mode": {
    "name": "ipython",
    "version": 3
   },
   "file_extension": ".py",
   "mimetype": "text/x-python",
   "name": "python",
   "nbconvert_exporter": "python",
   "pygments_lexer": "ipython3",
   "version": "3.11.9"
  }
 },
 "nbformat": 4,
 "nbformat_minor": 5
}
