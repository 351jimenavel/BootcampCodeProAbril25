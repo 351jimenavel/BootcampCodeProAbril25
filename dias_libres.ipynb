{
 "cells": [
  {
   "cell_type": "markdown",
   "id": "4af488bf",
   "metadata": {},
   "source": [
    "# Challenges de Práctica"
   ]
  },
  {
   "cell_type": "markdown",
   "id": "04e8f730",
   "metadata": {},
   "source": [
    "## # Challenge 1: Registro de Tareas con Diccionarios\n",
    "\n",
    "Crea un programa que gestione las tareas de una persona. \n",
    "\n",
    "Debe usar un diccionario para almacenar las tareas con la siguiente estructura:\n",
    "\n",
    "- tarea: nombre de la tarea.\n",
    "- estado: estado de la tarea (pendiente, en progreso, completada).\n",
    "\n",
    "El programa debe permitir al usuario:\n",
    "1. Agregar una tarea nueva.\n",
    "2. Modificar el estado de una tarea.\n",
    "3. Eliminar una tarea.\n",
    "4. Mostrar todas las tareas y su estado."
   ]
  },
  {
   "cell_type": "code",
   "execution_count": null,
   "id": "adeba58c",
   "metadata": {},
   "outputs": [
    {
     "name": "stdout",
     "output_type": "stream",
     "text": [
      "{'tarea_1': {'nombre_tarea': 'A1. Compuertas logicas', 'estado_tarea': 'pendiente'}, 'tarea_2': {'nombre_tarea': 'A2. Algebra de Boole', 'estado_tarea': 'en progreso'}, 'tarea_3': {'nombre_tarea': 'Ecuaciones diferenciales ', 'estado_tarea': 'completada'}}\n",
      "Que deseas realizar?\n",
      " 1- Agregar una tarea nueva. \n",
      " 2- Modificar el estado de una tarea. \n",
      " 3- Eliminar una tarea. \n",
      " 4- Mostrar todas las tareas y su estado. \n",
      " 5- Salir.\n"
     ]
    }
   ],
   "source": [
    "# Crear diccionario de tareas\n",
    "\n",
    "tareas_del_alumno = {\n",
    "    'tarea_1':{'nombre_tarea': 'A1. Compuertas logicas', 'estado_tarea':'pendiente'},\n",
    "    'tarea_2':{'nombre_tarea': 'A2. Algebra de Boole', 'estado_tarea':'en progreso'},\n",
    "    'tarea_3':{'nombre_tarea': 'Ecuaciones diferenciales ', 'estado_tarea':'completada'},\n",
    "}\n",
    "print(tareas_del_alumno)\n",
    "# El usuario podrá elegir entre las siguientes opciones\n",
    "print(\"Que deseas realizar?\\n 1- Agregar una tarea nueva. \\n 2- Modificar el estado de una tarea. \\n 3- Eliminar una tarea. \\n 4- Mostrar todas las tareas y su estado. \\n 5- Salir.\")\n",
    "eleccion_usuario = int(input(\"Elige una opción\"))\n",
    "## 1- Agregar tarea\n",
    "if eleccion_usuario == 1:\n",
    "    datos = { }\n",
    "    numero_de_tarea_a_crear = input(\"Ingresa el número de tarea\")\n",
    "    while True:\n",
    "        nombre_tarea_a_agregar = input(\"Ingresa el nombre de la tarea\")\n",
    "        \n",
    "## 2- Modificar el ESTADO de una tarea\n",
    "## 3- Eliminar una tarea\n",
    "## 4- Mostrar todas las tareas y su estado"
   ]
  },
  {
   "cell_type": "code",
   "execution_count": null,
   "id": "6b90e3ce",
   "metadata": {},
   "outputs": [
    {
     "name": "stdout",
     "output_type": "stream",
     "text": [
      "{'compuertas logicas': 'pendiente', 'algebra de boole': 'en progreso', 'ecuaciones diferenciales': 'completada'}\n",
      "Que deseas realizar?\n",
      " 1- Agregar una tarea nueva. \n",
      " 2- Modificar el estado de una tarea. \n",
      " 3- Eliminar una tarea. \n",
      " 4- Mostrar todas las tareas y su estado. \n",
      " 5- Salir.\n",
      "Tu lista de tareas se ve así: {'compuertas logicas': 'pendiente', 'algebra de boole': 'en progreso', 'ecuaciones diferenciales': 'completada'}\n",
      "Esta es tu lista de tareas:\n",
      " {'compuertas logicas': 'pendiente', 'algebra de boole': 'en progreso', 'ecuaciones diferenciales': 'completada'}\n",
      "Gracias por todo\n",
      "Nos vemos la próxima!\n"
     ]
    }
   ],
   "source": [
    "# Crear diccionario de tareas\n",
    "tareas_del_alumno = {'compuertas logicas':'pendiente', \n",
    "'algebra de boole':'en progreso', \n",
    "'ecuaciones diferenciales':'completada'}\n",
    "\n",
    "# lista de estados permitidos para luego verificarlos.\n",
    "estados_permitidos = ['pendiente', 'en progreso', 'completada']\n",
    "\n",
    "#print(tareas_del_alumno)\n",
    "# El usuario podrá elegir entre las siguientes opciones\n",
    "print(\"Que deseas realizar?\\n 1- Agregar una tarea nueva. \\n 2- Modificar el estado de una tarea. \\n 3- Eliminar una tarea. \\n 4- Mostrar todas las tareas y su estado. \\n 5- Salir.\")\n",
    "while True:\n",
    "    eleccion_usuario = int(input(\"Elige una opción\"))\n",
    "    ## 1- Agregar tarea\n",
    "    if eleccion_usuario == 1:\n",
    "        while True:\n",
    "            nombre_tarea_a_agregar = input(\"Ingresa el nombre de la tarea\")\n",
    "            # Verificador de estado\n",
    "            while True:\n",
    "                estado_tarea_a_agregar = input(\"Ingresa el estado de la tarea\")\n",
    "                if estado_tarea_a_agregar in estados_permitidos:\n",
    "                    break\n",
    "                else:\n",
    "                    print(\"Ese estado no esta disponible para asignar a la tarea. \\n Intenta nuevamente\") \n",
    "\n",
    "            tareas_del_alumno[nombre_tarea_a_agregar] = estado_tarea_a_agregar\n",
    "            continuar = input(\"Deseas continuar agregando tareas? Si o No.\").lower()\n",
    "            if continuar != 'si':\n",
    "                break\n",
    "        #tareas_del_alumno[nombre_tarea_a_agregar] = estado_tarea_a_agregar \n",
    "        print(f\"Tu lista de tareas ha sido actualidada: \")\n",
    "        print(tareas_del_alumno)\n",
    "\n",
    "    ## 2- Modificar el ESTADO de una tarea\n",
    "    elif eleccion_usuario == 2:\n",
    "        print(tareas_del_alumno)\n",
    "        nombre_tarea_a_modificar = input(\"Ingresa el nombre de la tarea para modificar su estado\")\n",
    "        if nombre_tarea_a_modificar not in tareas_del_alumno:\n",
    "            print(\"Esa tarea no la tengo registrada\")\n",
    "            continue    # vuelve al inicio del while principal sin ejecutar lo de abajo\n",
    "        while True:\n",
    "            nuevo_estado_tarea_a_modificar = input(\"Ingresa su estado\").lower()\n",
    "            if nuevo_estado_tarea_a_modificar in estados_permitidos:\n",
    "                tareas_del_alumno[nombre_tarea_a_modificar]= nuevo_estado_tarea_a_modificar\n",
    "                break\n",
    "            else:\n",
    "                print(\"Ese estado no esta disponible para asignar a la tarea\")\n",
    "        print(\"Los datos modificados se ven así:\")\n",
    "        print(f'{nombre_tarea_a_modificar}: {nuevo_estado_tarea_a_modificar}')\n",
    "\n",
    "    ## 3- Eliminar una tarea\n",
    "    elif eleccion_usuario == 3:\n",
    "        print(tareas_del_alumno.keys())\n",
    "        nombre_tarea_a_eliminar = input(\"Ingresa el nombre de la tarea que quieras eliminar\")\n",
    "        if nombre_tarea_a_eliminar not in tareas_del_alumno:\n",
    "            print(\"No tengo esa tarea registrada\")\n",
    "            continue \n",
    "        else:\n",
    "            del tareas_del_alumno[nombre_tarea_a_eliminar]\n",
    "            print(\"Tu lista de tareas se ha actualizado:\")\n",
    "            print(tareas_del_alumno)\n",
    "\n",
    "    ## 4- Mostrar todas las tareas y su estado\n",
    "    elif eleccion_usuario == 4:\n",
    "        print(f\"Tu lista de tareas se ve así actualmente: {tareas_del_alumno}\")\n",
    "\n",
    "    ## 5- Salir\n",
    "    elif eleccion_usuario == 5:\n",
    "        print(f\"Esta es tu lista de tareas:\\n {tareas_del_alumno}\")\n",
    "        print(\"Gracias por todo\")\n",
    "        break\n",
    "    else:\n",
    "        print(\"No tengo esa opción habilitada\")\n",
    "print(\"Nos vemos la próxima!\")"
   ]
  },
  {
   "cell_type": "markdown",
   "id": "d91ac82b",
   "metadata": {},
   "source": [
    "# # Challenge 2: Adivina el Número\n",
    "\n",
    "Crea un juego simple en el que el usuario tiene que adivinar un número secreto. \n",
    "\n",
    "El usuario puede hacer 3 intentos. \n",
    "\n",
    "Cada vez que falle, el programa debe decir si el número\n",
    "secreto es mayor o menor al ingresado.\n",
    "\n",
    "Si el usuario adivina, debe mostrar\n",
    "\n",
    "\"¡Felicidades! Adivinaste\"."
   ]
  },
  {
   "cell_type": "code",
   "execution_count": null,
   "id": "25f81fa7",
   "metadata": {},
   "outputs": [
    {
     "name": "stdout",
     "output_type": "stream",
     "text": [
      "Tienes 3 intentos en total, el primero empieza ahora\n",
      "Incorrecto\n",
      "Tienes 2 intentos\n",
      "Pista: el numero es menor\n",
      "Incorrecto\n",
      "Tienes 1 intentos\n",
      "Pista: el numero es menor\n",
      "Incorrecto\n",
      "Tienes 0 intentos\n",
      "Pista: el número es mayor\n",
      "Ups, perdiste!\n"
     ]
    }
   ],
   "source": [
    "# Crear numero a adivinar\n",
    "numero_secreto = 15\n",
    "# Crear cantidad de intentos\n",
    "intentos = 3\n",
    "\n",
    "# Explicar reglas: cuantos intentos tiene\n",
    "print(\"Tienes 3 intentos en total, el primero empieza ahora\")\n",
    "\n",
    "while intentos > 0:\n",
    "\n",
    "    # Pedir al usuario que ingrese un número\n",
    "    usuario_adivina = int(input(\"Ingresa un numero\"))\n",
    "    intentos = intentos - 1\n",
    "\n",
    "    # Si falla, se debe de mostrar si el numero es mayor o menor al ingresado\n",
    "    if usuario_adivina != numero_secreto:\n",
    "        print(\"Incorrecto\")\n",
    "        print(f\"Tienes {intentos} intentos\")\n",
    "\n",
    "        if usuario_adivina > numero_secreto:\n",
    "            print(\"Pista: el numero es menor\")\n",
    "        else: \n",
    "            print(\"Pista: el número es mayor\")\n",
    "# Si adivina se imprime mensaje de felicidades\n",
    "    else:\n",
    "        print(\"Fecilidades! Adivinaste\")\n",
    "        break\n",
    "# Mensaje cuando se te acaban los intentos    \n",
    "    if intentos == 0:\n",
    "        print(\"Ups, perdiste!\")"
   ]
  },
  {
   "cell_type": "markdown",
   "id": "dce0a293",
   "metadata": {},
   "source": [
    "# # Challenge 3: La Clase Animal\n",
    "\n",
    "Crea una clase llamada Animal que tenga los atributos:\n",
    "- Nombre\n",
    "- edad\n",
    "\n",
    "La clase debe tener un método llamado presentarse() que imprima algo como:\n",
    "\n",
    "\"¡Hola! Soy [nombre] y tengo [edad] años. \"\n",
    "\n",
    "Luego, crea instancias de un perro y\n",
    "un gato y haz que ambos se presenten."
   ]
  },
  {
   "cell_type": "code",
   "execution_count": null,
   "id": "06646cb8",
   "metadata": {},
   "outputs": [
    {
     "name": "stdout",
     "output_type": "stream",
     "text": [
      "Hola! Soy Millord y tengo 14 años.\n",
      "Hola! Soy Zemo y tengo 3 años.\n",
      "Hola! Soy Shang y tengo 4 años.\n"
     ]
    }
   ],
   "source": [
    "# Crear una clase titulada Animal\n",
    "class Animal():\n",
    "\n",
    "# tendrá atributos de clase como Nombre y edad\n",
    "    patas = 4\n",
    "    #nombre = 'Millord'\n",
    "    #edad = 14\n",
    "\n",
    "    def __init__(self, nombre, edad):\n",
    "        self.nombre = nombre\n",
    "        self.edad = edad\n",
    "\n",
    "# crear método 'presentarse'\n",
    "    def presentarse(self):\n",
    "        '''\n",
    "        self.nombre es el atributo del objeto, algo que el objeto va a recordar para siempre.\n",
    "\n",
    "        nombre (el que está sin self.) es simplemente el parámetro que se recibe cuando se crea el objeto.\n",
    "        '''\n",
    "        return (f\"Hola! Soy {self.nombre} y tengo {self.edad} años.\")\n",
    "\n",
    "animal = Animal('Millord', '14')\n",
    "\n",
    "# imprimir método\n",
    "print(animal.presentarse())\n",
    "\n",
    "# crear instancias de perro y gato, Hacer que se presenten\n",
    "perro = Animal('Zemo', 3)\n",
    "print(perro.presentarse())\n",
    "\n",
    "gato = Animal('Shang', 4)\n",
    "print(gato.presentarse())\n",
    "\n"
   ]
  },
  {
   "cell_type": "markdown",
   "id": "54fa9b93",
   "metadata": {},
   "source": [
    "# # Challenge 4: Peluche\n",
    "\n",
    "Crea una clase Peluche con los atributos:\n",
    "- nombre\n",
    "- tamaño\n",
    "\n",
    "La clase debe tener un método abrazar() que imprima algo como: \n",
    "\"¡Es hora de abrazar a [nombre], el peluche de tamaño [tamaño]!\"\n",
    "\n",
    "Luego, crea un peluche y haz que sea abrazado.\n",
    "\n",
    "Conceptos usados:\n",
    "- Clases, Atributos, Métodos."
   ]
  },
  {
   "cell_type": "code",
   "execution_count": null,
   "id": "06fe848a",
   "metadata": {},
   "outputs": [
    {
     "name": "stdout",
     "output_type": "stream",
     "text": [
      "Es hora de abrazar a Teddy, el peluche de tamaño pequeño\n"
     ]
    }
   ],
   "source": [
    "class Peluche():\n",
    "    #nombre = 'Teddy'\n",
    "    #tamanho = 'pequeño'\n",
    "\n",
    "    ojos = 2\n",
    "    orejas = 2\n",
    "    \n",
    "    def __init__(self, nombre, tamanho):\n",
    "        self.nombre = nombre\n",
    "        self.tamanho = tamanho\n",
    "\n",
    "    def abrazar(self):\n",
    "        return (f\"Es hora de abrazar a {self.nombre}, el peluche de tamaño {self.tamanho}\")\n",
    "\n",
    "peluche = Peluche('Teddy', 'pequeño')\n",
    "print(peluche.abrazar())"
   ]
  },
  {
   "cell_type": "markdown",
   "id": "2cebfef5",
   "metadata": {},
   "source": [
    "# # Challenge 5: Multiplicar una Lista de Números\n",
    "\n",
    "Escribe una función llamada multiplicar_lista() que reciba una lista de números\n",
    "\n",
    "como parámetro y devuelva el resultado de multiplicar todos los elementos de la lista."
   ]
  },
  {
   "cell_type": "code",
   "execution_count": null,
   "id": "d97a2dde",
   "metadata": {},
   "outputs": [
    {
     "name": "stdout",
     "output_type": "stream",
     "text": [
      "24\n"
     ]
    }
   ],
   "source": [
    "# Crear un funcion multiplicar_lista()\n",
    "def multiplicar_lista(lista):\n",
    "    resultado = 1   # se arranca con 1 así al multiplicar no cambia el valor\n",
    "    # recorremos la lista, tomando cada numero\n",
    "    for numero in lista_de_numeros:\n",
    "        # multiplicamos el acumulado por ese número.\n",
    "        resultado *= numero\n",
    "    # se devuelve el resultado de lo acumulado cuando se termine el bucle.\n",
    "    return resultado\n",
    "\n",
    "# Creo mi lista de numeros\n",
    "lista_de_numeros = [1,2,3,4]\n",
    "# Para luego, llamar a la funcion y designar a esa lista de numeros como mi argumento\n",
    "imprimir_lista = multiplicar_lista(lista_de_numeros)    # se guarda la llamada en una variable\n",
    "# para finalmente, imprimirla\n",
    "print(imprimir_lista)"
   ]
  }
 ],
 "metadata": {
  "kernelspec": {
   "display_name": "Python 3",
   "language": "python",
   "name": "python3"
  },
  "language_info": {
   "codemirror_mode": {
    "name": "ipython",
    "version": 3
   },
   "file_extension": ".py",
   "mimetype": "text/x-python",
   "name": "python",
   "nbconvert_exporter": "python",
   "pygments_lexer": "ipython3",
   "version": "3.11.9"
  }
 },
 "nbformat": 4,
 "nbformat_minor": 5
}
