{
 "cells": [
  {
   "cell_type": "code",
   "execution_count": 1,
   "id": "e3311dd0",
   "metadata": {},
   "outputs": [
    {
     "name": "stdout",
     "output_type": "stream",
     "text": [
      "Hola Mundo\n"
     ]
    }
   ],
   "source": [
    "def imprimir_saludo():\n",
    "    print(\"Hola Mundo\")\n",
    "\n",
    "imprimir_saludo()\n",
    "    "
   ]
  },
  {
   "cell_type": "markdown",
   "id": "db41a6d7",
   "metadata": {},
   "source": [
    "# #1 Challenge\n",
    "Challenge 1 🤺 - 10m\n",
    "\n",
    "Crear una función que imprima la variable palabra."
   ]
  },
  {
   "cell_type": "code",
   "execution_count": 3,
   "id": "c64df12f",
   "metadata": {},
   "outputs": [
    {
     "name": "stdout",
     "output_type": "stream",
     "text": [
      "Hola Mundo\n"
     ]
    }
   ],
   "source": [
    "#palabra = \"Hola Mundo\"    # Es mejor que esté adentro de mi funcion para que sea una variable local.\n",
    "\n",
    "def imprimir_palabra():\n",
    "    palabra = \"Hola Mundo\"\n",
    "    print(palabra)\n",
    "\n",
    "imprimir_palabra()"
   ]
  },
  {
   "cell_type": "markdown",
   "id": "7ca7cbfb",
   "metadata": {},
   "source": [
    "# #2 Challenge\n",
    "\n",
    "Challenge 2 🤺 - 20 min\n",
    "\n",
    "Crear una función que reciba dos letras (parámetros) y que verifique si son iguales:\n",
    "\n",
    "Si son iguales, imprimir \"Las letras son iguales\".\n",
    "\n",
    "De lo contrario, imprimir \"Las letras son diferentes\"."
   ]
  },
  {
   "cell_type": "code",
   "execution_count": null,
   "id": "86df307a",
   "metadata": {},
   "outputs": [
    {
     "name": "stdout",
     "output_type": "stream",
     "text": [
      "Las letras son iguales\n"
     ]
    }
   ],
   "source": [
    "# crear una funcion que reciba 2 letras como parametros\n",
    "def verificar_letras (letra1, letra2):\n",
    "\n",
    "    # comparar si son iguales o no, mediante una condicion\n",
    "    if letra1 == letra2:\n",
    "        print(\"Las letras son iguales\")\n",
    "    else:\n",
    "        print(\"Las letras son diferentes\")\n",
    "\n",
    "verificar_letras(\"a\",\"a\")\n",
    "\n",
    "# Con INPUT\n",
    "def verificar_letras (letra1, letra2):\n",
    "\n",
    "    # comparar si son iguales o no, mediante una condicion\n",
    "    if letra1 == letra2:\n",
    "        print(\"Las letras son iguales\")\n",
    "    else:\n",
    "        print(\"Las letras son diferentes\")\n",
    "\n",
    "letra_1 = input\n",
    "\n",
    "verificar_letras(\"a\",\"a\")\n"
   ]
  },
  {
   "cell_type": "markdown",
   "id": "9e7a0bbd",
   "metadata": {},
   "source": [
    "# Palabra reservada: RETURN\n",
    "\n",
    "ejemplo del cajero automatica.\n",
    "\n",
    "- consultar cuanto saldo tenes y que te muestre en pantalla o te imprima el papel es PRINT.\n",
    "\n",
    "- si queres usar ese saldo, necesitas que sea plata de verdad, y ahí es donde entra el RETURN"
   ]
  },
  {
   "cell_type": "code",
   "execution_count": 11,
   "id": "4ff7a9b9",
   "metadata": {},
   "outputs": [
    {
     "data": {
      "text/plain": [
       "4"
      ]
     },
     "execution_count": 11,
     "metadata": {},
     "output_type": "execute_result"
    }
   ],
   "source": [
    "def sumatoria(numero1, numero2):\n",
    "    sumar = numero1 + numero2\n",
    "    # print(sumar) no es imprimir, sino retornar\n",
    "    return sumar  # funciona al igual que el break. No se puede colocar nada debajo porque hasta ahi devuelve.\n",
    "\n",
    "sumatoria(1, 3)\n",
    "\n",
    "# Continua abajo\n"
   ]
  },
  {
   "cell_type": "code",
   "execution_count": 12,
   "id": "5d5b720f",
   "metadata": {},
   "outputs": [
    {
     "name": "stdout",
     "output_type": "stream",
     "text": [
      "5\n"
     ]
    }
   ],
   "source": [
    "suma1 = sumatoria(1, 3)   # es de jupyter lo de mostrar el resultado. solamente se guarda el dato en la variable\n",
    "total = suma1 + 1\n",
    "print(total)\n"
   ]
  },
  {
   "cell_type": "markdown",
   "id": "d997ae2f",
   "metadata": {},
   "source": [
    "# #3 Challenge\n",
    "Challenge 3 🤺 - 20m\n",
    "\n",
    "Crear una función que reciba dos parámetros (una palabra y un número), \n",
    "\n",
    "y que retorne True si el número es igual a la cantidad de letras de la palabra. \n",
    "\n",
    "En caso contrario, que retorne False.\n",
    "\n",
    "Pista: cantidad de letras de una palabra en python"
   ]
  },
  {
   "cell_type": "code",
   "execution_count": 26,
   "id": "770f4f0d",
   "metadata": {},
   "outputs": [
    {
     "data": {
      "text/plain": [
       "True"
      ]
     },
     "execution_count": 26,
     "metadata": {},
     "output_type": "execute_result"
    }
   ],
   "source": [
    "# Crear una funcion que reciba una palabra y un numero como parametros\n",
    "def comparar_letra_y_numero(palabra, numero):\n",
    "    # Comparar si la cantidad de letras en la palabra es igual al número ingresado.\n",
    "    if len(palabra) == numero:\n",
    "        return True\n",
    "    else:\n",
    "        return False\n",
    "\n",
    "comparar_letra_y_numero(\"hola\", 4)\n"
   ]
  },
  {
   "cell_type": "markdown",
   "id": "eff06341",
   "metadata": {},
   "source": []
  },
  {
   "cell_type": "code",
   "execution_count": null,
   "id": "d9925e70",
   "metadata": {},
   "outputs": [
    {
     "data": {
      "text/plain": [
       "True"
      ]
     },
     "execution_count": 27,
     "metadata": {},
     "output_type": "execute_result"
    }
   ],
   "source": [
    "# Otra forma de resolver el challenge\n",
    "# Crear una funcion que reciba una palabra y un numero como parametros\n",
    "\n",
    "def comparar_letra_y_numero(palabra, numero):\n",
    "    # Comparar si la cantidad de letras en la palabra es igual al número ingresado.\n",
    "    if len(palabra) == numero:\n",
    "        return True\n",
    "    else:\n",
    "        return False\n",
    "\n",
    "palabra_ingresada = input(\"Ingrese una palabra\")\n",
    "numero_ingresado = int(input(\"Ingrese un numero\"))   # el int es necesario porque sin ese se toma como texto \"4\"\n",
    "\n",
    "comparar_letra_y_numero(palabra_ingresada, numero_ingresado)"
   ]
  },
  {
   "cell_type": "markdown",
   "id": "710c34ec",
   "metadata": {},
   "source": [
    "## Funciones predefinidas de Python\n",
    "- print\n",
    "- input"
   ]
  },
  {
   "cell_type": "markdown",
   "id": "12f312c0",
   "metadata": {},
   "source": [
    "Funcion"
   ]
  },
  {
   "cell_type": "code",
   "execution_count": 28,
   "id": "53c92893",
   "metadata": {},
   "outputs": [
    {
     "name": "stdout",
     "output_type": "stream",
     "text": [
      "hola\n",
      "edu\n"
     ]
    }
   ],
   "source": [
    "palabra_a_encontrar = input(\"Ingresa una palabra\")\n",
    "print(palabra_a_encontrar)\n",
    "\n",
    "palabra_ingresada = input(\"Ingresa otra\")\n",
    "print(palabra_ingresada)"
   ]
  },
  {
   "cell_type": "code",
   "execution_count": 29,
   "id": "1447d6ad",
   "metadata": {},
   "outputs": [
    {
     "name": "stdout",
     "output_type": "stream",
     "text": [
      "['h', 'o', 'l', 'a']\n",
      "['e', 'd', 'u']\n"
     ]
    }
   ],
   "source": [
    "lista_de_letras_de_la_palabra_a_encontrar = list(palabra_a_encontrar)\n",
    "print(lista_de_letras_de_la_palabra_a_encontrar)\n",
    "\n",
    "lista_de_palabras_de_la_palabra_ingresada = list(palabra_ingresada)\n",
    "print(lista_de_palabras_de_la_palabra_ingresada)\n"
   ]
  },
  {
   "cell_type": "markdown",
   "id": "8b732459",
   "metadata": {},
   "source": [
    "# #4 Challenge\n",
    "Challenge 5 🤺 - 25m\n",
    "\n",
    "Pedir al usuario que ingrese 1 palabra, luego convertir esa palabra a una lista con sus caracteres con list(). \n",
    "\n",
    "Agregar esa lista de caracteres a una lista llamada palabras_ingresadas. \n",
    "\n",
    "Repetir el proceso 3 veces. \n",
    "\n",
    "Cada vez que se agregue una lista de caracteres, imprimir la lista palabras_ingresadas.\n",
    "\n",
    "\n",
    "Ejemplo del resultado esperado:\n",
    "\n",
    "[['c', 'i', 'e', 'l', 'o']]\n",
    " # Al ingresar la primera palabra\n",
    "\n",
    "[['c', 'i', 'e', 'l', 'o'], ['c', 'a', 'l', 'o', 'r']]\n",
    " # Al ingresar la segunda palabra\n",
    "\n",
    "[['c', 'i', 'e', 'l', 'o'], ['c', 'a', 'l', 'o', 'r'], ['n', 'u', 'b', 'e', 's']]\n",
    " # Al ingresar la tercera palabra"
   ]
  },
  {
   "cell_type": "code",
   "execution_count": null,
   "id": "7cc208ce",
   "metadata": {},
   "outputs": [
    {
     "name": "stdout",
     "output_type": "stream",
     "text": [
      "[['h', 'o', 'l', 'a']]\n",
      "[['h', 'o', 'l', 'a'], ['s', 'o', 'y']]\n",
      "[['h', 'o', 'l', 'a'], ['s', 'o', 'y'], ['j', 'i', 'm', 'e', 'n', 'a']]\n"
     ]
    }
   ],
   "source": [
    "# Pedir al usuario que ingrese una palabra\n",
    "\n",
    "## con FUNCION\n",
    "palabras_ingresadas = [ ]\n",
    "\n",
    "def preguntar_al_usuario():\n",
    "    palabra_ingresada_por_el_user = input(\"Porfavor ingresa una palabra\")\n",
    "    lista_de_letras_de_palabra_ingresada = list(palabra_ingresada_por_el_user)\n",
    "    palabras_ingresadas.append(lista_de_letras_de_palabra_ingresada)\n",
    "    print(palabras_ingresadas)\n",
    "\n",
    "preguntar_al_usuario()\n",
    "preguntar_al_usuario()\n",
    "preguntar_al_usuario()\n",
    "\n",
    "## Tambien con FOR\n",
    "\n",
    "#palabras_ingresadas = [ ]\n",
    "\n",
    "#for i in range(3):\n",
    "#    palabra_ingresada_por_el_user = input(\"Porfavor ingresa una palabra\")\n",
    "#    lista_de_letras_de_palabra_ingresada = list(palabra_ingresada_por_el_user)\n",
    "#    palabras_ingresadas.append(lista_de_letras_de_palabra_ingresada)\n",
    "#    print(palabras_ingresadas)\n"
   ]
  },
  {
   "cell_type": "markdown",
   "id": "9d977992",
   "metadata": {},
   "source": [
    "# #5 Challenge\n",
    "Challenge 6 🤺 - 25m\n",
    "\n",
    "Dada la lista de ejemplo: \n",
    "\n",
    "lista = [['h', 'o', 'l', 'i', 's'], ['h', 'e', 'l', 'l', 'o'], ['h', 'a', 'l', 'l', 'o']]\n",
    "\n",
    "Crear una función que imprima una grilla (lista de listas), una línea por cada lista dentro de la lista principal.\n",
    "\n",
    "Ejemplo del resultado esperado:\n",
    "\n",
    "['h', 'o', 'l', 'i', 's']\n",
    "\n",
    "['h', 'e', 'l', 'l', 'o']\n",
    "\n",
    "['h', 'a', 'l', 'l', 'o']"
   ]
  },
  {
   "cell_type": "code",
   "execution_count": null,
   "id": "e69824f2",
   "metadata": {},
   "outputs": [
    {
     "name": "stdout",
     "output_type": "stream",
     "text": [
      "['h', 'o', 'l', 'i', 's']\n",
      "['h', 'e', 'l', 'l', 'o']\n",
      "['h', 'a', 'l', 'l', 'o']\n"
     ]
    }
   ],
   "source": [
    "## con FUNCION\n",
    "# FORMA 1\n",
    "lista = [['h', 'o', 'l', 'i', 's'], ['h', 'e', 'l', 'l', 'o'], ['h', 'a', 'l', 'l', 'o']]\n",
    "\n",
    "def imprimir_grilla():\n",
    "    print(lista[0])\n",
    "    print(lista[1]) \n",
    "    print(lista[2])  \n",
    "\n",
    "imprimir_grilla()"
   ]
  },
  {
   "cell_type": "code",
   "execution_count": 77,
   "id": "20f89abe",
   "metadata": {},
   "outputs": [
    {
     "name": "stdout",
     "output_type": "stream",
     "text": [
      "['h', 'o', 'l', 'i', 's']\n",
      "['h', 'e', 'l', 'l', 'o']\n",
      "['h', 'a', 'l', 'l', 'o']\n",
      " \n",
      "['h', 'o', 'l', 'i', 's']\n",
      "['h', 'e', 'l', 'l', 'o']\n",
      "['h', 'a', 'l', 'l', 'o']\n"
     ]
    }
   ],
   "source": [
    "## CON FOR\n",
    "# FORMA 2\n",
    "lista = [['h', 'o', 'l', 'i', 's'], ['h', 'e', 'l', 'l', 'o'], ['h', 'a', 'l', 'l', 'o']]\n",
    "\n",
    "for i in range(3):\n",
    "    print(lista[i])\n",
    "\n",
    "print(\" \")\n",
    "\n",
    "# FORMA 3\n",
    "lista = [['h', 'o', 'l', 'i', 's'], ['h', 'e', 'l', 'l', 'o'], ['h', 'a', 'l', 'l', 'o']]\n",
    "\n",
    "for i in lista:\n",
    "    print(i)"
   ]
  },
  {
   "cell_type": "code",
   "execution_count": null,
   "id": "b205d447",
   "metadata": {},
   "outputs": [],
   "source": [
    "# con FUNCION y FOR\n"
   ]
  },
  {
   "cell_type": "code",
   "execution_count": null,
   "id": "c4eb15f6",
   "metadata": {},
   "outputs": [],
   "source": [
    "# INTENTOS\n",
    "intentos = 3\n",
    "\n",
    "while intentos > 0:\n",
    "    print(f\"te quedan {intentos} intentos\")\n",
    "    palabra = input(\"ingrese una palabra\")\n",
    "    intentos = intentos - 1\n",
    "\n",
    "print(\"te quedaste sin intentos\")\n"
   ]
  },
  {
   "cell_type": "markdown",
   "id": "3255ffee",
   "metadata": {},
   "source": [
    "# WORDLE"
   ]
  },
  {
   "cell_type": "code",
   "execution_count": null,
   "id": "fd193769",
   "metadata": {},
   "outputs": [],
   "source": [
    "# Iniciar juego\n",
    "# Definir palabra a encontrar\n",
    "    ## \n",
    "# Definir cantidad de letras\n",
    "# Definir intentos\n",
    "# Crear grilla vacia (lista para mostrar el progreso del jugador)\n",
    "# Mostrar mensaje de bienvenida"
   ]
  },
  {
   "cell_type": "code",
   "execution_count": 94,
   "id": "fed2a458",
   "metadata": {},
   "outputs": [
    {
     "name": "stdout",
     "output_type": "stream",
     "text": [
      "['h']\n"
     ]
    }
   ],
   "source": [
    "\n",
    "intentos = 6\n",
    "lista_progreso = []\n",
    "palabra_secreta = \"arbol\"\n",
    "palabra_ingresada_por_el_usuario = input(\"Ingresa una palabra\")\n",
    "\n",
    "\n",
    "def obtener_fila_verificada(palabra_secreta, palabra_ingresada_por_el_usuario):\n",
    "    \n",
    "    cantidad_letras_permitidas = 5\n",
    "\n",
    "    lista_de_letras_verificadas = []\n",
    "    \n",
    "    for posicion in range(cantidad_letras_permitidas):\n",
    "        # variables necesarias para luego empezar la condicion\n",
    "        las_letras_son_iguales = palabra_ingresada_por_el_usuario[posicion] == palabra_secreta[posicion]\n",
    "        la_letra_existe_en_la_palabra = palabra_ingresada_por_el_usuario[posicion] in palabra_secreta\n",
    "\n",
    "        # condicion que se dará según se cumplan las variables.\n",
    "        if las_letras_son_iguales:\n",
    "            lista_de_letras_verificadas.append(f\"[ {palabra_ingresada_por_el_usuario[posicion]} ]\")\n",
    "        elif la_letra_existe_en_la_palabra:\n",
    "            lista_de_letras_verificadas.append(f\"( {palabra_ingresada_por_el_usuario[posicion]} )\")\n",
    "        else:\n",
    "            lista_de_letras_verificadas.append(palabra_ingresada_por_el_usuario[posicion])\n",
    "\n",
    "        return lista_de_letras_verificadas\n",
    "\n",
    "\n",
    "obtener_fila_verificada(palabra_secreta, palabra_ingresada_por_el_usuario)\n",
    "lista = obtener_fila_verificada(palabra_secreta, palabra_ingresada_por_el_usuario)\n",
    "print(lista)\n",
    "\n",
    "\n"
   ]
  },
  {
   "cell_type": "code",
   "execution_count": null,
   "id": "016f4a8e",
   "metadata": {},
   "outputs": [],
   "source": []
  },
  {
   "cell_type": "code",
   "execution_count": null,
   "id": "a11e948e",
   "metadata": {},
   "outputs": [],
   "source": []
  },
  {
   "cell_type": "code",
   "execution_count": 133,
   "id": "b4f0e478",
   "metadata": {},
   "outputs": [
    {
     "name": "stdout",
     "output_type": "stream",
     "text": [
      "['h', '( o )', '( l )', '( a )', '( a )']\n",
      "te quedan 5 intentos\n",
      "['[ a ]', '[ r ]', '( o )', 'm', '( a )']\n",
      "te quedan 4 intentos\n",
      "Acertaste!!!\n"
     ]
    }
   ],
   "source": [
    "\n",
    "intentos = 6\n",
    "lista_progreso = []\n",
    "\n",
    "while intentos > 0:\n",
    "    palabra_ingresada_por_el_usuario = input(\"Ingresa una palabra\")\n",
    "    intentos = intentos - 1    \n",
    "    def obtener_fila_verificada(palabra_secreta, palabra_ingresada_por_el_usuario):\n",
    "        \n",
    "        cantidad_letras_permitidas = 5\n",
    "\n",
    "        lista_de_letras_verificadas = []\n",
    "        \n",
    "        for posicion in range(cantidad_letras_permitidas):\n",
    "            las_letras_son_iguales = palabra_ingresada_por_el_usuario[posicion] == palabra_secreta[posicion]\n",
    "            la_letra_existe_en_la_palabra = palabra_ingresada_por_el_usuario[posicion] in palabra_secreta\n",
    "\n",
    "            # condicion que se dará según se cumplan las variables.\n",
    "            if las_letras_son_iguales:\n",
    "                lista_de_letras_verificadas.append(f\"[ {palabra_ingresada_por_el_usuario[posicion]} ]\")\n",
    "            elif la_letra_existe_en_la_palabra:\n",
    "                lista_de_letras_verificadas.append(f\"( {palabra_ingresada_por_el_usuario[posicion]} )\")\n",
    "            else:\n",
    "                lista_de_letras_verificadas.append(palabra_ingresada_por_el_usuario[posicion])\n",
    "\n",
    "        return lista_de_letras_verificadas\n",
    "    if palabra_ingresada_por_el_usuario == palabra_secreta:\n",
    "        print(\"Acertaste!!!\")\n",
    "        break\n",
    "\n",
    "    palabra_secreta = \"arbol\"\n",
    "    obtener_fila_verificada(palabra_secreta, palabra_ingresada_por_el_usuario)\n",
    "    #lista_progreso.append(palabra_ingresada_por_el_usuario)\n",
    "    lista = obtener_fila_verificada(palabra_secreta, palabra_ingresada_por_el_usuario)\n",
    "    print(lista)\n",
    "    print(f\"te quedan {intentos} intentos\")\n",
    "    #print(lista_progreso)"
   ]
  },
  {
   "cell_type": "code",
   "execution_count": null,
   "id": "574ed8ec",
   "metadata": {},
   "outputs": [
    {
     "ename": "SyntaxError",
     "evalue": "'break' outside loop (149070227.py, line 30)",
     "output_type": "error",
     "traceback": [
      "  \u001b[36mCell\u001b[39m\u001b[36m \u001b[39m\u001b[32mIn[134]\u001b[39m\u001b[32m, line 30\u001b[39m\n\u001b[31m    \u001b[39m\u001b[31mbreak\u001b[39m\n    ^\n\u001b[31mSyntaxError\u001b[39m\u001b[31m:\u001b[39m 'break' outside loop\n"
     ]
    }
   ],
   "source": [
    "intentos = 6\n",
    "lista_progreso = []\n",
    "\n",
    "while intentos > 0:\n",
    "    palabra_ingresada_por_el_usuario = input(\"Ingresa una palabra\")\n",
    "    intentos = intentos - 1  \n",
    "    \n",
    "def obtener_fila_verificada(palabra_secreta, palabra_ingresada_por_el_usuario):\n",
    "    \n",
    "    cantidad_letras_permitidas = 5\n",
    "\n",
    "    lista_de_letras_verificadas = []\n",
    "    \n",
    "    for posicion in range(cantidad_letras_permitidas):\n",
    "        las_letras_son_iguales = palabra_ingresada_por_el_usuario[posicion] == palabra_secreta[posicion]\n",
    "        la_letra_existe_en_la_palabra = palabra_ingresada_por_el_usuario[posicion] in palabra_secreta\n",
    "\n",
    "        # condicion que se dará según se cumplan las variables.\n",
    "        if las_letras_son_iguales:\n",
    "            lista_de_letras_verificadas.append(f\"[ {palabra_ingresada_por_el_usuario[posicion]} ]\")\n",
    "        elif la_letra_existe_en_la_palabra:\n",
    "            lista_de_letras_verificadas.append(f\"( {palabra_ingresada_por_el_usuario[posicion]} )\")\n",
    "        else:\n",
    "            lista_de_letras_verificadas.append(palabra_ingresada_por_el_usuario[posicion])\n",
    "\n",
    "    return lista_de_letras_verificadas\n",
    "\n",
    "if palabra_ingresada_por_el_usuario == palabra_secreta:\n",
    "    print(\"Acertaste!!!\")\n",
    "break\n",
    "\n",
    "palabra_secreta = \"arbol\"\n",
    "obtener_fila_verificada(palabra_secreta, palabra_ingresada_por_el_usuario)\n",
    "#lista_progreso.append(palabra_ingresada_por_el_usuario)\n",
    "lista = obtener_fila_verificada(palabra_secreta, palabra_ingresada_por_el_usuario)\n",
    "print(lista)\n",
    "print(f\"te quedan {intentos} intentos\")\n",
    "#print(lista_progreso)"
   ]
  }
 ],
 "metadata": {
  "kernelspec": {
   "display_name": "Python 3",
   "language": "python",
   "name": "python3"
  },
  "language_info": {
   "codemirror_mode": {
    "name": "ipython",
    "version": 3
   },
   "file_extension": ".py",
   "mimetype": "text/x-python",
   "name": "python",
   "nbconvert_exporter": "python",
   "pygments_lexer": "ipython3",
   "version": "3.11.9"
  }
 },
 "nbformat": 4,
 "nbformat_minor": 5
}
